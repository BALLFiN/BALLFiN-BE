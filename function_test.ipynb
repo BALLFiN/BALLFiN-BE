{
 "cells": [
  {
   "cell_type": "code",
   "execution_count": 9,
   "id": "79894473",
   "metadata": {},
   "outputs": [
    {
     "name": "stdout",
     "output_type": "stream",
     "text": [
      "✅ Neo4j 연결 성공 (RETURN 1 → 1)\n"
     ]
    }
   ],
   "source": [
    "import os\n",
    "from dotenv import load_dotenv\n",
    "from neo4j import GraphDatabase\n",
    "from openai import OpenAI\n",
    "\n",
    "load_dotenv()\n",
    "\n",
    "OPENAI_API_KEY = os.environ[\"OPENAI_API_KEY\"]\n",
    "NEO4J_URI      = os.environ[\"NEO4J_URI\"]\n",
    "NEO4J_USER     = os.environ[\"NEO4J_USERNAME\"]\n",
    "NEO4J_PW       = os.environ[\"NEO4J_PASSWORD\"]\n",
    "\n",
    "#드라이버 생성\n",
    "\n",
    "\n",
    "driver = GraphDatabase.driver(NEO4J_URI, auth=(NEO4J_USER, NEO4J_PW))\n",
    "client = OpenAI(api_key=OPENAI_API_KEY)\n",
    "try:\n",
    "    with driver.session() as sess:\n",
    "        ok = sess.run(\"RETURN 1 AS ok\").single()[\"ok\"]\n",
    "    print(f\"✅ Neo4j 연결 성공 (RETURN 1 → {ok})\")\n",
    "except Exception as e:\n",
    "    print(f\"❌ Neo4j 연결 실패: {e}\")"
   ]
  },
  {
   "cell_type": "code",
   "execution_count": 2,
   "id": "c69af883",
   "metadata": {},
   "outputs": [
    {
     "data": {
      "text/plain": [
       "[Document(metadata={'title': '[포토] 삼성증권, 해외주식 온라인 거래 이벤트 진행', 'source': 'naver_news', 'date': '', 'topic': '[포토] 삼성증권, 해외주식 온라인 ', 'link': 'https://www.viva100.com/article/20250415500662'}, page_content='제목: [포토] 삼성증권, 해외주식 온라인 거래 이벤트 진행\\n요약: 이원동 기자 21cu@viva100.com\\n날짜: '),\n",
       " Document(metadata={'date': '', 'link': 'https://www.viva100.com/article/20250415500662', 'topic': '[포토] 삼성증권, 해외주식 온라인 ', 'title': '[포토] 삼성증권, 해외주식 온라인 거래 이벤트 진행', 'source': 'naver_news'}, page_content='제목: [포토] 삼성증권, 해외주식 온라인 거래 이벤트 진행\\n요약: 이원동 기자 21cu@viva100.com\\n날짜: '),\n",
       " Document(metadata={'date': '', 'topic': '[속보] 트럼프 \"전자제품 관세 면제', 'link': 'https://www.yna.co.kr/view/AKR20250414002700071?input=1195m', 'title': '[속보] 트럼프 \"전자제품 관세 면제 아니다…반도체 등 조사 예정\"', 'source': 'naver_news'}, page_content='제목: [속보] 트럼프 \"전자제품 관세 면제 아니다…반도체 등 조사 예정\"\\n요약: \\n날짜: '),\n",
       " Document(metadata={'title': '부방, 최대주주 변경 수반 주식 담보제공 계약 해제', 'date': '', 'topic': '부방, 최대주주 변경 수반 주식 담보', 'source': 'naver_news', 'link': 'http://www.edaily.co.kr/news/newspath.asp?newsid=03768726642136448'}, page_content='제목: 부방, 최대주주 변경 수반 주식 담보제공 계약 해제\\n요약: 부방(014470)은 계약기간 만료에 따라 최대주주 변경을 수반하는 주식 담보제공 계약이 해제됐다고 15일 공시했다.\\n날짜: '),\n",
       " Document(metadata={'source': 'naver_news', 'link': 'https://www.hankyung.com/article/2025041495837', 'topic': '[속보] 트럼프 \"반도체 새 관세 다', 'date': '', 'title': '[속보] 트럼프 \"반도체 새 관세 다음주 발표, 머지않은 미래 시행\"'}, page_content='제목: [속보] 트럼프 \"반도체 새 관세 다음주 발표, 머지않은 미래 시행\"\\n요약: 트럼프 \"반도체 새 관세 다음주 발표, 머지않은 미래 시행\"\\n날짜: ')]"
      ]
     },
     "execution_count": 2,
     "metadata": {},
     "output_type": "execute_result"
    }
   ],
   "source": [
    "from app.models.llm.graph import retriever,retrieve\n",
    "\n",
    "retrieve(\"삼성전자 소식\",retriever)"
   ]
  },
  {
   "cell_type": "code",
   "execution_count": 6,
   "id": "3734e857",
   "metadata": {},
   "outputs": [
    {
     "data": {
      "text/plain": [
       "<coroutine object ask_llm_gpt at 0x000001800A7ADA10>"
      ]
     },
     "execution_count": 6,
     "metadata": {},
     "output_type": "execute_result"
    }
   ],
   "source": [
    "from app.services.chat_service import ask_llm_gpt\n",
    "\n",
    "\n",
    "ask_llm_gpt(\"안녕하세요\")"
   ]
  },
  {
   "cell_type": "code",
   "execution_count": 9,
   "id": "d57b2263",
   "metadata": {},
   "outputs": [
    {
     "data": {
      "text/plain": [
       "'현재 테슬라(TSLA) 주가는 $284.95입니다.'"
      ]
     },
     "execution_count": 9,
     "metadata": {},
     "output_type": "execute_result"
    }
   ],
   "source": [
    "await ask_llm_gpt(\"현재 테슬라 주가 얼마임?\")"
   ]
  },
  {
   "cell_type": "code",
   "execution_count": 2,
   "id": "1009fa05",
   "metadata": {},
   "outputs": [
    {
     "name": "stdout",
     "output_type": "stream",
     "text": [
      "Pinged your deployment. You successfully connected to MongoDB!\n"
     ]
    },
    {
     "name": "stderr",
     "output_type": "stream",
     "text": [
      "c:\\Users\\yunji\\py\\ballpin\\BALLFiN-BE\\.venv\\lib\\site-packages\\tqdm\\auto.py:21: TqdmWarning: IProgress not found. Please update jupyter and ipywidgets. See https://ipywidgets.readthedocs.io/en/stable/user_install.html\n",
      "  from .autonotebook import tqdm as notebook_tqdm\n"
     ]
    },
    {
     "name": "stdout",
     "output_type": "stream",
     "text": [
      "✅ Neo4j 연결 성공 (RETURN 1 → 1)\n",
      "✅ OpenAI 연결 성공, 보유 모델 72개\n"
     ]
    },
    {
     "name": "stderr",
     "output_type": "stream",
     "text": [
      "c:\\Users\\yunji\\py\\ballpin\\BALLFiN-BE\\app\\models\\llm\\DB_loader.py:9: LangChainDeprecationWarning: The class `HuggingFaceEmbeddings` was deprecated in LangChain 0.2.2 and will be removed in 1.0. An updated version of the class exists in the :class:`~langchain-huggingface package and should be used instead. To use it run `pip install -U :class:`~langchain-huggingface` and import as `from :class:`~langchain_huggingface import HuggingFaceEmbeddings``.\n",
      "  embeddings = HuggingFaceEmbeddings(model_name=EMBEDDING_MODEL)\n",
      "c:\\Users\\yunji\\py\\ballpin\\BALLFiN-BE\\app\\models\\llm\\DB_loader.py:10: LangChainDeprecationWarning: The class `Chroma` was deprecated in LangChain 0.2.9 and will be removed in 1.0. An updated version of the class exists in the :class:`~langchain-chroma package and should be used instead. To use it run `pip install -U :class:`~langchain-chroma` and import as `from :class:`~langchain_chroma import Chroma``.\n",
      "  vectordb = Chroma(\n"
     ]
    },
    {
     "name": "stdout",
     "output_type": "stream",
     "text": [
      "✅ 벡터 데이터베이스를 'chroma_db'에서 성공적으로 로드했습니다.\n",
      "✅ VectorDB 로드 완료\n",
      "✅ gpt, Gemini langchain모델 준비 완료\n",
      "ask to gemini\n"
     ]
    },
    {
     "data": {
      "text/plain": [
       "'안녕하세요. 무엇을 도와드릴까요?  금융 및 경제 분석과 관련된 질문이 있으시면 언제든지 편하게 말씀해주세요.'"
      ]
     },
     "execution_count": 2,
     "metadata": {},
     "output_type": "execute_result"
    }
   ],
   "source": [
    "from app.services.chat_service import ask_llm_gemini\n",
    "\n",
    "\n",
    "await ask_llm_gemini(\"안녕하세요\")"
   ]
  },
  {
   "cell_type": "code",
   "execution_count": 11,
   "id": "2089e5d8",
   "metadata": {},
   "outputs": [
    {
     "name": "stdout",
     "output_type": "stream",
     "text": [
      "ask to gemini\n"
     ]
    },
    {
     "data": {
      "text/plain": [
       "'죄송합니다. 저는 광운대학교의 위치를 알려드릴 수 없습니다.  제가 접근할 수 있는 정보가 제한적이기 때문입니다.  다른 검색 엔진이나 지도 서비스를 이용해 보시는 것을 추천합니다.'"
      ]
     },
     "execution_count": 11,
     "metadata": {},
     "output_type": "execute_result"
    }
   ],
   "source": [
    "await ask_llm_gemini(\"광운대학교 위치 알려줘\")"
   ]
  },
  {
   "cell_type": "code",
   "execution_count": 10,
   "id": "84eb501e",
   "metadata": {},
   "outputs": [
    {
     "data": {
      "text/plain": [
       "'광운대학교는 대한민국 서울특별시 노원구에 위치하고 있습니다. 정확한 주소는 서울특별시 노원구 광운로 20입니다.'"
      ]
     },
     "execution_count": 10,
     "metadata": {},
     "output_type": "execute_result"
    }
   ],
   "source": [
    "await ask_llm_gpt(\"광운대학교 위치 알려줘\")"
   ]
  },
  {
   "cell_type": "code",
   "execution_count": 11,
   "id": "a9a31f14",
   "metadata": {},
   "outputs": [],
   "source": [
    "from langchain_openai import ChatOpenAI\n",
    "from langchain_google_genai import ChatGoogleGenerativeAI\n",
    "from openai import api_key\n",
    "\n",
    "gpt = ChatOpenAI(\n",
    "    temperature=0.5,\n",
    "    model=\"gpt-4o-mini\",\n",
    "    api_key= os.environ[\"OPENAI_API_KEY\"]\n",
    ")\n",
    "\n",
    "gemini = ChatGoogleGenerativeAI(\n",
    "    model = \"models/gemini-1.5-flash-latest\",\n",
    "    api_key = os.environ[\"GOOGLE_API_KEY\"]\n",
    ")\n"
   ]
  },
  {
   "cell_type": "code",
   "execution_count": 15,
   "id": "60b07f31",
   "metadata": {},
   "outputs": [
    {
     "data": {
      "text/plain": [
       "AIMessage(content='안녕하세요! 어떻게 도와드릴까요?', additional_kwargs={'refusal': None}, response_metadata={'token_usage': {'completion_tokens': 11, 'prompt_tokens': 9, 'total_tokens': 20, 'completion_tokens_details': {'accepted_prediction_tokens': 0, 'audio_tokens': 0, 'reasoning_tokens': 0, 'rejected_prediction_tokens': 0}, 'prompt_tokens_details': {'audio_tokens': 0, 'cached_tokens': 0}}, 'model_name': 'gpt-4o-mini-2024-07-18', 'system_fingerprint': 'fp_0392822090', 'id': 'chatcmpl-BRIBq90TApUoK4iq6ymqhpMX3dJnx', 'finish_reason': 'stop', 'logprobs': None}, id='run-a5986838-cafe-456a-b08c-01b68303e82f-0', usage_metadata={'input_tokens': 9, 'output_tokens': 11, 'total_tokens': 20, 'input_token_details': {'audio': 0, 'cache_read': 0}, 'output_token_details': {'audio': 0, 'reasoning': 0}})"
      ]
     },
     "execution_count": 15,
     "metadata": {},
     "output_type": "execute_result"
    }
   ],
   "source": [
    "gpt.invoke(\"안녕하세요\")"
   ]
  },
  {
   "cell_type": "code",
   "execution_count": 2,
   "id": "32b61e12",
   "metadata": {},
   "outputs": [
    {
     "name": "stdout",
     "output_type": "stream",
     "text": [
      "✅ Neo4j 연결 성공 (RETURN 1 → 1)\n",
      "✅ OpenAI 연결 성공, 보유 모델 72개\n"
     ]
    },
    {
     "name": "stderr",
     "output_type": "stream",
     "text": [
      "c:\\Users\\yunji\\py\\ballpin\\BALLFiN-BE\\app\\models\\llm\\DB_loader.py:9: LangChainDeprecationWarning: The class `HuggingFaceEmbeddings` was deprecated in LangChain 0.2.2 and will be removed in 1.0. An updated version of the class exists in the :class:`~langchain-huggingface package and should be used instead. To use it run `pip install -U :class:`~langchain-huggingface` and import as `from :class:`~langchain_huggingface import HuggingFaceEmbeddings``.\n",
      "  embeddings = HuggingFaceEmbeddings(model_name=EMBEDDING_MODEL)\n",
      "c:\\Users\\yunji\\py\\ballpin\\BALLFiN-BE\\.venv\\lib\\site-packages\\tqdm\\auto.py:21: TqdmWarning: IProgress not found. Please update jupyter and ipywidgets. See https://ipywidgets.readthedocs.io/en/stable/user_install.html\n",
      "  from .autonotebook import tqdm as notebook_tqdm\n",
      "c:\\Users\\yunji\\py\\ballpin\\BALLFiN-BE\\app\\models\\llm\\DB_loader.py:10: LangChainDeprecationWarning: The class `Chroma` was deprecated in LangChain 0.2.9 and will be removed in 1.0. An updated version of the class exists in the :class:`~langchain-chroma package and should be used instead. To use it run `pip install -U :class:`~langchain-chroma` and import as `from :class:`~langchain_chroma import Chroma``.\n",
      "  vectordb = Chroma(\n"
     ]
    },
    {
     "name": "stdout",
     "output_type": "stream",
     "text": [
      "✅ 벡터 데이터베이스를 'chroma_db'에서 성공적으로 로드했습니다.\n",
      "✅ VectorDB 로드 완료\n"
     ]
    }
   ],
   "source": [
    "from app.models.llm.graph import create_agent\n",
    "\n",
    "\n",
    "gpt_agent = create_agent(gpt)\n",
    "gemini_agent = create_agent(gemini)"
   ]
  },
  {
   "cell_type": "code",
   "execution_count": 3,
   "id": "fcbc7430",
   "metadata": {},
   "outputs": [
    {
     "name": "stdout",
     "output_type": "stream",
     "text": [
      "{'agent': {'messages': [AIMessage(content='', additional_kwargs={'tool_calls': [{'id': 'call_5i8GEBN2GEMpwXvlPYs2uMSs', 'function': {'arguments': '{\"__arg1\":\"삼성전자\"}', 'name': 'news_retrieve'}, 'type': 'function'}], 'refusal': None}, response_metadata={'token_usage': {'completion_tokens': 20, 'prompt_tokens': 200, 'total_tokens': 220, 'completion_tokens_details': {'accepted_prediction_tokens': 0, 'audio_tokens': 0, 'reasoning_tokens': 0, 'rejected_prediction_tokens': 0}, 'prompt_tokens_details': {'audio_tokens': 0, 'cached_tokens': 0}}, 'model_name': 'gpt-4o-mini-2024-07-18', 'system_fingerprint': 'fp_dbaca60df0', 'id': 'chatcmpl-BRIOFg0AkWywRcUOYGNOrQcZe1erX', 'finish_reason': 'tool_calls', 'logprobs': None}, id='run-9fb34799-8c4c-4e20-b7ed-96001cd1df19-0', tool_calls=[{'name': 'news_retrieve', 'args': {'__arg1': '삼성전자'}, 'id': 'call_5i8GEBN2GEMpwXvlPYs2uMSs', 'type': 'tool_call'}], usage_metadata={'input_tokens': 200, 'output_tokens': 20, 'total_tokens': 220, 'input_token_details': {'audio': 0, 'cache_read': 0}, 'output_token_details': {'audio': 0, 'reasoning': 0}})]}}\n",
      "{'tools': {'messages': [ToolMessage(content='[Document(metadata={\\'title\\': \\'[속보] 트럼프 \"전자제품 관세 면제 아니다…반도체 등 조사 예정\"\\', \\'source\\': \\'naver_news\\', \\'date\\': \\'\\', \\'topic\\': \\'[속보] 트럼프 \"전자제품 관세 면제\\', \\'link\\': \\'https://www.yna.co.kr/view/AKR20250414002700071?input=1195m\\'}, page_content=\\'제목: [속보] 트럼프 \"전자제품 관세 면제 아니다…반도체 등 조사 예정\"\\\\n요약: \\\\n날짜: \\'), Document(metadata={\\'source\\': \\'naver_news\\', \\'link\\': \\'https://www.viva100.com/article/20250415500662\\', \\'title\\': \\'[포토] 삼성증권, 해외주식 온라인 거래 이벤트 진행\\', \\'topic\\': \\'[포토] 삼성증권, 해외주식 온라인 \\', \\'date\\': \\'\\'}, page_content=\\'제목: [포토] 삼성증권, 해외주식 온라인 거래 이벤트 진행\\\\n요약: 이원동 기자 21cu@viva100.com\\\\n날짜: \\'), Document(metadata={\\'source\\': \\'naver_news\\', \\'topic\\': \\'[포토] 삼성증권, 해외주식 온라인 \\', \\'title\\': \\'[포토] 삼성증권, 해외주식 온라인 거래 이벤트 진행\\', \\'date\\': \\'\\', \\'link\\': \\'https://www.viva100.com/article/20250415500662\\'}, page_content=\\'제목: [포토] 삼성증권, 해외주식 온라인 거래 이벤트 진행\\\\n요약: 이원동 기자 21cu@viva100.com\\\\n날짜: \\'), Document(metadata={\\'date\\': \\'\\', \\'title\\': \\'[속보] 트럼프 \"반도체 새 관세 다음주 발표, 머지않은 미래 시행\"\\', \\'source\\': \\'naver_news\\', \\'topic\\': \\'[속보] 트럼프 \"반도체 새 관세 다\\', \\'link\\': \\'https://www.hankyung.com/article/2025041495837\\'}, page_content=\\'제목: [속보] 트럼프 \"반도체 새 관세 다음주 발표, 머지않은 미래 시행\"\\\\n요약: 트럼프 \"반도체 새 관세 다음주 발표, 머지않은 미래 시행\"\\\\n날짜: \\'), Document(metadata={\\'link\\': \\'http://www.edaily.co.kr/news/newspath.asp?newsid=03768726642136448\\', \\'source\\': \\'naver_news\\', \\'date\\': \\'\\', \\'title\\': \\'부방, 최대주주 변경 수반 주식 담보제공 계약 해제\\', \\'topic\\': \\'부방, 최대주주 변경 수반 주식 담보\\'}, page_content=\\'제목: 부방, 최대주주 변경 수반 주식 담보제공 계약 해제\\\\n요약: 부방(014470)은 계약기간 만료에 따라 최대주주 변경을 수반하는 주식 담보제공 계약이 해제됐다고 15일 공시했다.\\\\n날짜: \\')]', name='news_retrieve', id='d3d1be31-9976-4603-b1ed-fbc685d03dcd', tool_call_id='call_5i8GEBN2GEMpwXvlPYs2uMSs')]}}\n",
      "{'agent': {'messages': [AIMessage(content='최근 삼성전자와 관련된 주요 뉴스는 다음과 같습니다:\\n\\n1. **트럼프 \"전자제품 관세 면제 아니다…반도체 등 조사 예정\"**\\n   - 트럼프 전 대통령이 전자제품에 대한 관세 면제는 없다고 발표하며, 반도체 등에 대한 조사를 예고했습니다.\\n   - [자세히 보기](https://www.yna.co.kr/view/AKR20250414002700071?input=1195m)\\n\\n2. **삼성증권, 해외주식 온라인 거래 이벤트 진행**\\n   - 삼성증권이 해외주식 온라인 거래 이벤트를 진행하고 있다는 소식입니다.\\n   - [자세히 보기](https://www.viva100.com/article/20250415500662)\\n\\n3. **트럼프 \"반도체 새 관세 다음주 발표, 머지않은 미래 시행\"**\\n   - 트럼프 전 대통령이 반도체에 대한 새로운 관세를 다음 주에 발표할 것이라고 언급했습니다.\\n   - [자세히 보기](https://www.hankyung.com/article/2025041495837)\\n\\n4. **부방, 최대주주 변경 수반 주식 담보제공 계약 해제**\\n   - 부방이 최대주주 변경을 수반하는 주식 담보제공 계약이 해제되었다고 공시했습니다.\\n   - [자세히 보기](http://www.edaily.co.kr/news/newspath.asp?newsid=03768726642136448)\\n\\n이 외에도 삼성전자와 관련된 다양한 뉴스가 있으니 참고하시기 바랍니다.', additional_kwargs={'refusal': None}, response_metadata={'token_usage': {'completion_tokens': 339, 'prompt_tokens': 874, 'total_tokens': 1213, 'completion_tokens_details': {'accepted_prediction_tokens': 0, 'audio_tokens': 0, 'reasoning_tokens': 0, 'rejected_prediction_tokens': 0}, 'prompt_tokens_details': {'audio_tokens': 0, 'cached_tokens': 0}}, 'model_name': 'gpt-4o-mini-2024-07-18', 'system_fingerprint': 'fp_0392822090', 'id': 'chatcmpl-BRIOGJXxYU37tGoKqmBVRdsYaofxt', 'finish_reason': 'stop', 'logprobs': None}, id='run-e95f48a5-96f4-4aef-b739-483eb06e2640-0', usage_metadata={'input_tokens': 874, 'output_tokens': 339, 'total_tokens': 1213, 'input_token_details': {'audio': 0, 'cache_read': 0}, 'output_token_details': {'audio': 0, 'reasoning': 0}})]}}\n"
     ]
    }
   ],
   "source": [
    "for s in gpt_agent.stream(\n",
    "    {\"messages\": [\n",
    "                {\"role\": \"user\",\n",
    "                \"content\": \"삼전 뉴스 뭐 있나\"}\n",
    "                ]\n",
    "                }):\n",
    "    print(s)"
   ]
  },
  {
   "cell_type": "code",
   "execution_count": 4,
   "id": "2b10f573",
   "metadata": {},
   "outputs": [
    {
     "name": "stdout",
     "output_type": "stream",
     "text": [
      "{'agent': {'messages': [AIMessage(content='', additional_kwargs={'function_call': {'name': 'news_retrieve', 'arguments': '{\"__arg1\": \"\\\\uc0bc\\\\uc804\"}'}}, response_metadata={'prompt_feedback': {'block_reason': 0, 'safety_ratings': []}, 'finish_reason': 'STOP', 'model_name': 'gemini-1.5-flash-latest', 'safety_ratings': []}, id='run-ac092586-303f-414a-9b9e-09857e850fe1-0', tool_calls=[{'name': 'news_retrieve', 'args': {'__arg1': '삼전'}, 'id': '09d51cd0-6cbf-41f8-9339-33ca5494e63b', 'type': 'tool_call'}], usage_metadata={'input_tokens': 163, 'output_tokens': 8, 'total_tokens': 171, 'input_token_details': {'cache_read': 0}})]}}\n",
      "{'tools': {'messages': [ToolMessage(content='[Document(metadata={\\'topic\\': \\'[속보] 트럼프 \"전자제품 관세 면제\\', \\'source\\': \\'naver_news\\', \\'date\\': \\'\\', \\'title\\': \\'[속보] 트럼프 \"전자제품 관세 면제 아니다…반도체 등 조사 예정\"\\', \\'link\\': \\'https://www.yna.co.kr/view/AKR20250414002700071?input=1195m\\'}, page_content=\\'제목: [속보] 트럼프 \"전자제품 관세 면제 아니다…반도체 등 조사 예정\"\\\\n요약: \\\\n날짜: \\'), Document(metadata={\\'title\\': \\'[속보] 트럼프 \"반도체 새 관세 다음주 발표, 머지않은 미래 시행\"\\', \\'source\\': \\'naver_news\\', \\'link\\': \\'https://www.hankyung.com/article/2025041495837\\', \\'topic\\': \\'[속보] 트럼프 \"반도체 새 관세 다\\', \\'date\\': \\'\\'}, page_content=\\'제목: [속보] 트럼프 \"반도체 새 관세 다음주 발표, 머지않은 미래 시행\"\\\\n요약: 트럼프 \"반도체 새 관세 다음주 발표, 머지않은 미래 시행\"\\\\n날짜: \\'), Document(metadata={\\'title\\': \\'[포토] 삼성증권, 해외주식 온라인 거래 이벤트 진행\\', \\'date\\': \\'\\', \\'topic\\': \\'[포토] 삼성증권, 해외주식 온라인 \\', \\'source\\': \\'naver_news\\', \\'link\\': \\'https://www.viva100.com/article/20250415500662\\'}, page_content=\\'제목: [포토] 삼성증권, 해외주식 온라인 거래 이벤트 진행\\\\n요약: 이원동 기자 21cu@viva100.com\\\\n날짜: \\'), Document(metadata={\\'title\\': \\'[포토] 삼성증권, 해외주식 온라인 거래 이벤트 진행\\', \\'topic\\': \\'[포토] 삼성증권, 해외주식 온라인 \\', \\'link\\': \\'https://www.viva100.com/article/20250415500662\\', \\'date\\': \\'\\', \\'source\\': \\'naver_news\\'}, page_content=\\'제목: [포토] 삼성증권, 해외주식 온라인 거래 이벤트 진행\\\\n요약: 이원동 기자 21cu@viva100.com\\\\n날짜: \\'), Document(metadata={\\'link\\': \\'http://www.edaily.co.kr/news/newspath.asp?newsid=03768726642136448\\', \\'date\\': \\'\\', \\'title\\': \\'부방, 최대주주 변경 수반 주식 담보제공 계약 해제\\', \\'source\\': \\'naver_news\\', \\'topic\\': \\'부방, 최대주주 변경 수반 주식 담보\\'}, page_content=\\'제목: 부방, 최대주주 변경 수반 주식 담보제공 계약 해제\\\\n요약: 부방(014470)은 계약기간 만료에 따라 최대주주 변경을 수반하는 주식 담보제공 계약이 해제됐다고 15일 공시했다.\\\\n날짜: \\')]', name='news_retrieve', id='1c06df67-35ff-4702-ab76-6916c671732c', tool_call_id='09d51cd0-6cbf-41f8-9339-33ca5494e63b')]}}\n",
      "{'agent': {'messages': [AIMessage(content='삼성전자 관련 뉴스로는 트럼프 전 대통령의 전자제품 관세 면제 관련 발언, 반도체 관세 발표 예고, 삼성증권의 해외주식 온라인 거래 이벤트, 부방의 최대주주 변경 수반 주식 담보제공 계약 해제 등이 있습니다.  자세한 내용은 제시된 링크를 참고하시면 됩니다.', additional_kwargs={}, response_metadata={'prompt_feedback': {'block_reason': 0, 'safety_ratings': []}, 'finish_reason': 'STOP', 'model_name': 'gemini-1.5-flash-latest', 'safety_ratings': []}, id='run-733e1e50-3c09-4a01-949f-4cce5f7e53d9-0', usage_metadata={'input_tokens': 989, 'output_tokens': 100, 'total_tokens': 1089, 'input_token_details': {'cache_read': 0}})]}}\n"
     ]
    }
   ],
   "source": [
    "for s in gemini_agent.stream(\n",
    "    {\"messages\": [\n",
    "                {\"role\": \"user\",\n",
    "                \"content\": \"삼전 뉴스 뭐 있나\"}\n",
    "                ]\n",
    "                }):\n",
    "    print(s)"
   ]
  },
  {
   "cell_type": "code",
   "execution_count": 5,
   "id": "cbd33b8a",
   "metadata": {},
   "outputs": [
    {
     "name": "stdout",
     "output_type": "stream",
     "text": [
      "{'agent': {'messages': [AIMessage(content='', additional_kwargs={'tool_calls': [{'id': 'call_MmGfG08lV01ryii025kGn4qa', 'function': {'arguments': '{\"query\":\"Tesla 주가\"}', 'name': 'web_search'}, 'type': 'function'}], 'refusal': None}, response_metadata={'token_usage': {'completion_tokens': 17, 'prompt_tokens': 201, 'total_tokens': 218, 'completion_tokens_details': {'accepted_prediction_tokens': 0, 'audio_tokens': 0, 'reasoning_tokens': 0, 'rejected_prediction_tokens': 0}, 'prompt_tokens_details': {'audio_tokens': 0, 'cached_tokens': 0}}, 'model_name': 'gpt-4o-mini-2024-07-18', 'system_fingerprint': 'fp_dbaca60df0', 'id': 'chatcmpl-BRIOZYqSGK3OEEPHNY59ecsMNU54w', 'finish_reason': 'tool_calls', 'logprobs': None}, id='run-b8b25cce-baef-451f-94b8-9c1088832394-0', tool_calls=[{'name': 'web_search', 'args': {'query': 'Tesla 주가'}, 'id': 'call_MmGfG08lV01ryii025kGn4qa', 'type': 'tool_call'}], usage_metadata={'input_tokens': 201, 'output_tokens': 17, 'total_tokens': 218, 'input_token_details': {'audio': 0, 'cache_read': 0}, 'output_token_details': {'audio': 0, 'reasoning': 0}})]}}\n",
      "{'tools': {'messages': [ToolMessage(content='[{\"title\": \"Tesla Inc 오늘의 주가 - 테슬라 TSLA - 인베스팅닷컴\", \"url\": \"https://kr.investing.com/equities/tesla-motors\", \"content\": \"Tesla Inc의 오늘 주가는 284.95입니다. Tesla Inc의 주식 티커는? Tesla Inc의 티커는 \\\\\"TSLA.\\\\\" Tesla Inc가 거래되는 거래소는? Tesla Inc은/는 나스닥에서 거래되고\", \"score\": 0.8622012}, {\"title\": \"Tesla, Inc. (TSLA) Stock Historical Prices & Data - Yahoo Finance\", \"url\": \"https://finance.yahoo.com/quote/TSLA/history/\", \"content\": \"| Feb 7, 2025 | 370.19 | 380.55 | 360.34 | 361.62 | 361.62 | 70,298,300 |\\\\n| Feb 6, 2025 | 373.03 | 375.40 | 363.18 | 374.32 | 374.32 | 77,918,200 |\\\\n| Feb 5, 2025 | 387.51 | 388.39 | 375.53 | 378.17 | 378.17 | 57,223,300 |\\\\n| Feb 4, 2025 | 382.63 | 394.00 | 381.40 | 392.21 | 392.21 | 57,072,200 |\\\\n| Feb 3, 2025 | 386.68 | 389.17 | 374.36 | 383.68 | 383.68 | 93,732,100 |\\\\n| Jan 31, 2025 | 401.53 | 419.99 | 401.34 | 404.60 | 404.60 | 83,568,200 | [...] | Jan 13, 2025 | 383.21 | 403.79 | 380.07 | 403.31 | 403.31 | 67,580,500 |\\\\n| Jan 10, 2025 | 391.40 | 399.28 | 377.29 | 394.74 | 394.74 | 62,287,300 |\\\\n| Jan 8, 2025 | 392.95 | 402.50 | 387.40 | 394.94 | 394.94 | 73,038,800 |\\\\n| Jan 7, 2025 | 405.83 | 414.33 | 390.00 | 394.36 | 394.36 | 75,699,500 |\\\\n| Jan 6, 2025 | 423.20 | 426.43 | 401.70 | 411.05 | 411.05 | 85,516,500 |\\\\n| Jan 3, 2025 | 381.48 | 411.88 | 379.45 | 410.44 | 410.44 | 95,423,300 | [...] | Jul 3, 2024 | 234.56 | 248.35 | 234.25 | 246.39 | 246.39 | 166,561,500 |\\\\n| Jul 2, 2024 | 218.89 | 231.30 | 218.06 | 231.26 | 231.26 | 205,047,900 |\\\\n| Jul 1, 2024 | 201.02 | 213.23 | 200.85 | 209.86 | 209.86 | 135,691,400 |\\\\n| Jun 28, 2024 | 199.55 | 203.20 | 195.26 | 197.88 | 197.88 | 95,438,100 |\\\\n| Jun 27, 2024 | 195.17 | 198.72 | 194.05 | 197.42 | 197.42 | 72,746,500 |\\\\n| Jun 26, 2024 | 186.54 | 197.76 | 186.36 | 196.37 | 196.37 | 95,737,100 |\", \"score\": 0.84246206}]', name='web_search', id='7f7472cd-c37f-4ddf-a2e3-f9882a5e0b68', tool_call_id='call_MmGfG08lV01ryii025kGn4qa', artifact={'query': 'Tesla 주가', 'follow_up_questions': None, 'answer': None, 'images': [], 'results': [{'url': 'https://kr.investing.com/equities/tesla-motors', 'title': 'Tesla Inc 오늘의 주가 - 테슬라 TSLA - 인베스팅닷컴', 'content': 'Tesla Inc의 오늘 주가는 284.95입니다. Tesla Inc의 주식 티커는? Tesla Inc의 티커는 \"TSLA.\" Tesla Inc가 거래되는 거래소는? Tesla Inc은/는 나스닥에서 거래되고', 'score': 0.8622012, 'raw_content': None}, {'url': 'https://finance.yahoo.com/quote/TSLA/history/', 'title': 'Tesla, Inc. (TSLA) Stock Historical Prices & Data - Yahoo Finance', 'content': '| Feb 7, 2025 | 370.19 | 380.55 | 360.34 | 361.62 | 361.62 | 70,298,300 |\\n| Feb 6, 2025 | 373.03 | 375.40 | 363.18 | 374.32 | 374.32 | 77,918,200 |\\n| Feb 5, 2025 | 387.51 | 388.39 | 375.53 | 378.17 | 378.17 | 57,223,300 |\\n| Feb 4, 2025 | 382.63 | 394.00 | 381.40 | 392.21 | 392.21 | 57,072,200 |\\n| Feb 3, 2025 | 386.68 | 389.17 | 374.36 | 383.68 | 383.68 | 93,732,100 |\\n| Jan 31, 2025 | 401.53 | 419.99 | 401.34 | 404.60 | 404.60 | 83,568,200 | [...] | Jan 13, 2025 | 383.21 | 403.79 | 380.07 | 403.31 | 403.31 | 67,580,500 |\\n| Jan 10, 2025 | 391.40 | 399.28 | 377.29 | 394.74 | 394.74 | 62,287,300 |\\n| Jan 8, 2025 | 392.95 | 402.50 | 387.40 | 394.94 | 394.94 | 73,038,800 |\\n| Jan 7, 2025 | 405.83 | 414.33 | 390.00 | 394.36 | 394.36 | 75,699,500 |\\n| Jan 6, 2025 | 423.20 | 426.43 | 401.70 | 411.05 | 411.05 | 85,516,500 |\\n| Jan 3, 2025 | 381.48 | 411.88 | 379.45 | 410.44 | 410.44 | 95,423,300 | [...] | Jul 3, 2024 | 234.56 | 248.35 | 234.25 | 246.39 | 246.39 | 166,561,500 |\\n| Jul 2, 2024 | 218.89 | 231.30 | 218.06 | 231.26 | 231.26 | 205,047,900 |\\n| Jul 1, 2024 | 201.02 | 213.23 | 200.85 | 209.86 | 209.86 | 135,691,400 |\\n| Jun 28, 2024 | 199.55 | 203.20 | 195.26 | 197.88 | 197.88 | 95,438,100 |\\n| Jun 27, 2024 | 195.17 | 198.72 | 194.05 | 197.42 | 197.42 | 72,746,500 |\\n| Jun 26, 2024 | 186.54 | 197.76 | 186.36 | 196.37 | 196.37 | 95,737,100 |', 'score': 0.84246206, 'raw_content': None}], 'response_time': 1.5})]}}\n",
      "{'agent': {'messages': [AIMessage(content='현재 테슬라(TSLA)의 주가는 284.95달러입니다. 자세한 내용은 [여기](https://kr.investing.com/equities/tesla-motors)에서 확인할 수 있습니다.', additional_kwargs={'refusal': None}, response_metadata={'token_usage': {'completion_tokens': 50, 'prompt_tokens': 1142, 'total_tokens': 1192, 'completion_tokens_details': {'accepted_prediction_tokens': 0, 'audio_tokens': 0, 'reasoning_tokens': 0, 'rejected_prediction_tokens': 0}, 'prompt_tokens_details': {'audio_tokens': 0, 'cached_tokens': 0}}, 'model_name': 'gpt-4o-mini-2024-07-18', 'system_fingerprint': 'fp_dbaca60df0', 'id': 'chatcmpl-BRIOekcKnJbBQMLeVdfEGf0rSlez8', 'finish_reason': 'stop', 'logprobs': None}, id='run-c358201f-e379-43bb-8780-37f0aef9d5b2-0', usage_metadata={'input_tokens': 1142, 'output_tokens': 50, 'total_tokens': 1192, 'input_token_details': {'audio': 0, 'cache_read': 0}, 'output_token_details': {'audio': 0, 'reasoning': 0}})]}}\n"
     ]
    }
   ],
   "source": [
    "for s in gpt_agent.stream(\n",
    "    {\"messages\": [\n",
    "                {\"role\": \"user\",\n",
    "                \"content\": \"테슬라 주가 얼마야\"}\n",
    "                ]\n",
    "                }):\n",
    "    print(s)"
   ]
  },
  {
   "cell_type": "code",
   "execution_count": 7,
   "id": "08a0b564",
   "metadata": {},
   "outputs": [
    {
     "name": "stdout",
     "output_type": "stream",
     "text": [
      "{'agent': {'messages': [AIMessage(content='죄송합니다. 현재로서는 테슬라 주가를 알려드릴 수 있는 기능이 없습니다.  실시간 주가 정보를 얻으시려면 금융 웹사이트를 참고하시기 바랍니다.', additional_kwargs={}, response_metadata={'prompt_feedback': {'block_reason': 0, 'safety_ratings': []}, 'finish_reason': 'STOP', 'model_name': 'gemini-1.5-flash-latest', 'safety_ratings': []}, id='run-69f5f6ba-fbdd-4c36-b2d4-b5ed915b8a78-0', usage_metadata={'input_tokens': 169, 'output_tokens': 51, 'total_tokens': 220, 'input_token_details': {'cache_read': 0}})]}}\n"
     ]
    }
   ],
   "source": [
    "for s in gemini_agent.stream(\n",
    "    {\"messages\": [\n",
    "                {\"role\": \"user\",\n",
    "                \"content\": \" 테슬라 주가가 얼마인지 알려줘\"}\n",
    "                ]\n",
    "                }):\n",
    "    print(s)"
   ]
  }
 ],
 "metadata": {
  "kernelspec": {
   "display_name": ".venv",
   "language": "python",
   "name": "python3"
  },
  "language_info": {
   "codemirror_mode": {
    "name": "ipython",
    "version": 3
   },
   "file_extension": ".py",
   "mimetype": "text/x-python",
   "name": "python",
   "nbconvert_exporter": "python",
   "pygments_lexer": "ipython3",
   "version": "3.10.0"
  }
 },
 "nbformat": 4,
 "nbformat_minor": 5
}
