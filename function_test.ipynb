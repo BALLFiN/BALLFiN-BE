{
 "cells": [
  {
   "cell_type": "code",
   "execution_count": 1,
   "id": "79894473",
   "metadata": {},
   "outputs": [
    {
     "name": "stdout",
     "output_type": "stream",
     "text": [
      "✅ Neo4j 연결 성공 (RETURN 1 → 1)\n"
     ]
    }
   ],
   "source": [
    "import os\n",
    "from dotenv import load_dotenv\n",
    "from neo4j import GraphDatabase\n",
    "from openai import OpenAI\n",
    "\n",
    "load_dotenv()\n",
    "\n",
    "OPENAI_API_KEY = os.environ[\"OPENAI_API_KEY\"]\n",
    "NEO4J_URI      = os.environ[\"NEO4J_URI\"]\n",
    "NEO4J_USER     = os.environ[\"NEO4J_USERNAME\"]\n",
    "NEO4J_PW       = os.environ[\"NEO4J_PASSWORD\"]\n",
    "\n",
    "#드라이버 생성\n",
    "\n",
    "\n",
    "driver = GraphDatabase.driver(NEO4J_URI, auth=(NEO4J_USER, NEO4J_PW))\n",
    "client = OpenAI(api_key=OPENAI_API_KEY)\n",
    "try:\n",
    "    with driver.session() as sess:\n",
    "        ok = sess.run(\"RETURN 1 AS ok\").single()[\"ok\"]\n",
    "    print(f\"✅ Neo4j 연결 성공 (RETURN 1 → {ok})\")\n",
    "except Exception as e:\n",
    "    print(f\"❌ Neo4j 연결 실패: {e}\")"
   ]
  },
  {
   "cell_type": "code",
   "execution_count": 3,
   "id": "939b7ecc",
   "metadata": {},
   "outputs": [
    {
     "name": "stdout",
     "output_type": "stream",
     "text": [
      "뉴스에서 검출된 시작 엔티티: 삼성전자\n",
      "\n",
      "[Hop 1] 확장 중인 엔티티: 삼성전자\n",
      "선택된 관련 엣지: 3개 / 발견된 엣지: 92개\n",
      "다음 확장할 엔티티: ['대한민국', '전자공업', '전자제품']\n",
      "\n",
      "[Hop 2] 확장 중인 엔티티: 대한민국, 전자공업, 전자제품\n",
      "더 이상 확장할 노드가 없습니다.\n",
      "- (삼성전자) -[country]-> (대한민국)\n",
      "- (삼성전자) -[industry]-> (전자공업)\n",
      "- (삼성전자) -[product_or_material_produced]-> (전자제품)\n"
     ]
    }
   ],
   "source": [
    "from app.models.llm.kg import create_graph_structure\n",
    "from app.db.neo4j import cached_entities\n",
    "\n",
    "news = '''\n",
    "\n",
    "삼성전자가 지난해 파업이 일어났던 인도 남부 생산시설에 1,700억 원가량을 투자할 거라고 인도 당국이 밝혔습니다.\n",
    "\n",
    "T.R.B.라자 인도 타밀나두주 산업투자부 장관은 25일 SNS에서 삼성전자가 타밀나두주 첸나이 인근 스리페룸부두르 가전공장에 100억 루피(약 1천686억 원)를 투자하기로 했다고 밝혔다고, 로이터통신은 전했습니다.\n",
    "\n",
    "라자 장관은 “삼성전자의 추가 투자는 타밀나두주 노동력에 대한 신뢰를 강화하는 조치”라며 “해당 공장에 100명이 추가로 채용될 것”이라고 설명했습니다.\n",
    "\n",
    "앞서 지난해 9월 삼성전자 스리페룸부두르 가전공장에서는 직원 약 1천800명 가운데 수백 명이 노동조합 인정과 근로 시간 개선, 임금 인상 등을 요구하며 한 달 넘게 파업을 벌였습니다.\n",
    "\n",
    "지난 2월에는 직원 3명이 징계받은 것에 항의하며 노동자 약 500명이 작업을 거부하고 농성을 벌이기도 했습니다.\n",
    "\n",
    "냉장고와 세탁기 등을 생산하는 스리페룸부두르 가전공장은 연간 120억 달러(17조 3천억 원)에 달하는 삼성전자 인도 매출의 약 20%를 담당합니다.\n",
    "'''\n",
    "print(create_graph_structure(news,cached_entities))"
   ]
  },
  {
   "cell_type": "code",
   "execution_count": null,
   "id": "c69af883",
   "metadata": {},
   "outputs": [],
   "source": []
  }
 ],
 "metadata": {
  "kernelspec": {
   "display_name": ".venv",
   "language": "python",
   "name": "python3"
  },
  "language_info": {
   "codemirror_mode": {
    "name": "ipython",
    "version": 3
   },
   "file_extension": ".py",
   "mimetype": "text/x-python",
   "name": "python",
   "nbconvert_exporter": "python",
   "pygments_lexer": "ipython3",
   "version": "3.10.0"
  }
 },
 "nbformat": 4,
 "nbformat_minor": 5
}
